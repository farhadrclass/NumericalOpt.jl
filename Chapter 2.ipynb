{
 "cells": [
  {
   "cell_type": "markdown",
   "id": "7761fd40",
   "metadata": {},
   "source": [
    "# Chapter 2: unconstrained optimization\n"
   ]
  },
  {
   "cell_type": "markdown",
   "id": "6d3ca7ed",
   "metadata": {},
   "source": [
    "## Example "
   ]
  },
  {
   "cell_type": "code",
   "execution_count": 77,
   "id": "085194ed",
   "metadata": {},
   "outputs": [
    {
     "data": {
      "image/svg+xml": [
       "<?xml version=\"1.0\" encoding=\"utf-8\"?>\n",
       "<svg xmlns=\"http://www.w3.org/2000/svg\" xmlns:xlink=\"http://www.w3.org/1999/xlink\" width=\"600\" height=\"400\" viewBox=\"0 0 2400 1600\">\n",
       "<defs>\n",
       "  <clipPath id=\"clip910\">\n",
       "    <rect x=\"0\" y=\"0\" width=\"2400\" height=\"1600\"/>\n",
       "  </clipPath>\n",
       "</defs>\n",
       "<path clip-path=\"url(#clip910)\" d=\"\n",
       "M0 1600 L2400 1600 L2400 0 L0 0  Z\n",
       "  \" fill=\"#ffffff\" fill-rule=\"evenodd\" fill-opacity=\"1\"/>\n",
       "<defs>\n",
       "  <clipPath id=\"clip911\">\n",
       "    <rect x=\"480\" y=\"0\" width=\"1681\" height=\"1600\"/>\n",
       "  </clipPath>\n",
       "</defs>\n",
       "<path clip-path=\"url(#clip910)\" d=\"\n",
       "M110.881 1486.45 L2352.76 1486.45 L2352.76 47.2441 L110.881 47.2441  Z\n",
       "  \" fill=\"#ffffff\" fill-rule=\"evenodd\" fill-opacity=\"1\"/>\n",
       "<defs>\n",
       "  <clipPath id=\"clip912\">\n",
       "    <rect x=\"110\" y=\"47\" width=\"2243\" height=\"1440\"/>\n",
       "  </clipPath>\n",
       "</defs>\n",
       "<polyline clip-path=\"url(#clip912)\" style=\"stroke:#000000; stroke-linecap:butt; stroke-linejoin:round; stroke-width:2; stroke-opacity:0.1; fill:none\" points=\"\n",
       "  409.328,1486.45 409.328,47.2441 \n",
       "  \"/>\n",
       "<polyline clip-path=\"url(#clip912)\" style=\"stroke:#000000; stroke-linecap:butt; stroke-linejoin:round; stroke-width:2; stroke-opacity:0.1; fill:none\" points=\"\n",
       "  879.322,1486.45 879.322,47.2441 \n",
       "  \"/>\n",
       "<polyline clip-path=\"url(#clip912)\" style=\"stroke:#000000; stroke-linecap:butt; stroke-linejoin:round; stroke-width:2; stroke-opacity:0.1; fill:none\" points=\"\n",
       "  1349.32,1486.45 1349.32,47.2441 \n",
       "  \"/>\n",
       "<polyline clip-path=\"url(#clip912)\" style=\"stroke:#000000; stroke-linecap:butt; stroke-linejoin:round; stroke-width:2; stroke-opacity:0.1; fill:none\" points=\"\n",
       "  1819.31,1486.45 1819.31,47.2441 \n",
       "  \"/>\n",
       "<polyline clip-path=\"url(#clip912)\" style=\"stroke:#000000; stroke-linecap:butt; stroke-linejoin:round; stroke-width:2; stroke-opacity:0.1; fill:none\" points=\"\n",
       "  2289.31,1486.45 2289.31,47.2441 \n",
       "  \"/>\n",
       "<polyline clip-path=\"url(#clip910)\" style=\"stroke:#000000; stroke-linecap:butt; stroke-linejoin:round; stroke-width:4; stroke-opacity:1; fill:none\" points=\"\n",
       "  110.881,1486.45 2352.76,1486.45 \n",
       "  \"/>\n",
       "<polyline clip-path=\"url(#clip910)\" style=\"stroke:#000000; stroke-linecap:butt; stroke-linejoin:round; stroke-width:4; stroke-opacity:1; fill:none\" points=\"\n",
       "  409.328,1486.45 409.328,1467.55 \n",
       "  \"/>\n",
       "<polyline clip-path=\"url(#clip910)\" style=\"stroke:#000000; stroke-linecap:butt; stroke-linejoin:round; stroke-width:4; stroke-opacity:1; fill:none\" points=\"\n",
       "  879.322,1486.45 879.322,1467.55 \n",
       "  \"/>\n",
       "<polyline clip-path=\"url(#clip910)\" style=\"stroke:#000000; stroke-linecap:butt; stroke-linejoin:round; stroke-width:4; stroke-opacity:1; fill:none\" points=\"\n",
       "  1349.32,1486.45 1349.32,1467.55 \n",
       "  \"/>\n",
       "<polyline clip-path=\"url(#clip910)\" style=\"stroke:#000000; stroke-linecap:butt; stroke-linejoin:round; stroke-width:4; stroke-opacity:1; fill:none\" points=\"\n",
       "  1819.31,1486.45 1819.31,1467.55 \n",
       "  \"/>\n",
       "<polyline clip-path=\"url(#clip910)\" style=\"stroke:#000000; stroke-linecap:butt; stroke-linejoin:round; stroke-width:4; stroke-opacity:1; fill:none\" points=\"\n",
       "  2289.31,1486.45 2289.31,1467.55 \n",
       "  \"/>\n",
       "<path clip-path=\"url(#clip910)\" d=\"M403.98 1544.91 L420.3 1544.91 L420.3 1548.85 L398.355 1548.85 L398.355 1544.91 Q401.017 1542.16 405.601 1537.53 Q410.207 1532.88 411.388 1531.53 Q413.633 1529.01 414.513 1527.27 Q415.415 1525.51 415.415 1523.82 Q415.415 1521.07 413.471 1519.33 Q411.55 1517.6 408.448 1517.6 Q406.249 1517.6 403.795 1518.36 Q401.365 1519.13 398.587 1520.68 L398.587 1515.95 Q401.411 1514.82 403.865 1514.24 Q406.318 1513.66 408.355 1513.66 Q413.726 1513.66 416.92 1516.35 Q420.115 1519.03 420.115 1523.52 Q420.115 1525.65 419.304 1527.57 Q418.517 1529.47 416.411 1532.07 Q415.832 1532.74 412.73 1535.95 Q409.628 1539.15 403.98 1544.91 Z\" fill=\"#000000\" fill-rule=\"evenodd\" fill-opacity=\"1\" /><path clip-path=\"url(#clip910)\" d=\"M882.332 1518.36 L870.526 1536.81 L882.332 1536.81 L882.332 1518.36 M881.105 1514.29 L886.984 1514.29 L886.984 1536.81 L891.915 1536.81 L891.915 1540.7 L886.984 1540.7 L886.984 1548.85 L882.332 1548.85 L882.332 1540.7 L866.73 1540.7 L866.73 1536.19 L881.105 1514.29 Z\" fill=\"#000000\" fill-rule=\"evenodd\" fill-opacity=\"1\" /><path clip-path=\"url(#clip910)\" d=\"M1349.72 1529.7 Q1346.57 1529.7 1344.72 1531.86 Q1342.89 1534.01 1342.89 1537.76 Q1342.89 1541.49 1344.72 1543.66 Q1346.57 1545.82 1349.72 1545.82 Q1352.87 1545.82 1354.7 1543.66 Q1356.55 1541.49 1356.55 1537.76 Q1356.55 1534.01 1354.7 1531.86 Q1352.87 1529.7 1349.72 1529.7 M1359 1515.05 L1359 1519.31 Q1357.25 1518.48 1355.44 1518.04 Q1353.66 1517.6 1351.9 1517.6 Q1347.27 1517.6 1344.81 1520.72 Q1342.38 1523.85 1342.04 1530.17 Q1343.4 1528.15 1345.46 1527.09 Q1347.52 1526 1350 1526 Q1355.21 1526 1358.22 1529.17 Q1361.25 1532.32 1361.25 1537.76 Q1361.25 1543.08 1358.1 1546.3 Q1354.95 1549.52 1349.72 1549.52 Q1343.73 1549.52 1340.56 1544.94 Q1337.38 1540.33 1337.38 1531.6 Q1337.38 1523.41 1341.27 1518.55 Q1345.16 1513.66 1351.71 1513.66 Q1353.47 1513.66 1355.25 1514.01 Q1357.06 1514.36 1359 1515.05 Z\" fill=\"#000000\" fill-rule=\"evenodd\" fill-opacity=\"1\" /><path clip-path=\"url(#clip910)\" d=\"M1819.31 1532.44 Q1815.98 1532.44 1814.06 1534.22 Q1812.16 1536 1812.16 1539.13 Q1812.16 1542.25 1814.06 1544.03 Q1815.98 1545.82 1819.31 1545.82 Q1822.65 1545.82 1824.57 1544.03 Q1826.49 1542.23 1826.49 1539.13 Q1826.49 1536 1824.57 1534.22 Q1822.67 1532.44 1819.31 1532.44 M1814.64 1530.45 Q1811.63 1529.7 1809.94 1527.64 Q1808.27 1525.58 1808.27 1522.62 Q1808.27 1518.48 1811.21 1516.07 Q1814.17 1513.66 1819.31 1513.66 Q1824.47 1513.66 1827.41 1516.07 Q1830.35 1518.48 1830.35 1522.62 Q1830.35 1525.58 1828.66 1527.64 Q1827 1529.7 1824.01 1530.45 Q1827.39 1531.23 1829.27 1533.52 Q1831.16 1535.82 1831.16 1539.13 Q1831.16 1544.15 1828.08 1546.83 Q1825.03 1549.52 1819.31 1549.52 Q1813.59 1549.52 1810.52 1546.83 Q1807.46 1544.15 1807.46 1539.13 Q1807.46 1535.82 1809.36 1533.52 Q1811.26 1531.23 1814.64 1530.45 M1812.92 1523.06 Q1812.92 1525.75 1814.59 1527.25 Q1816.28 1528.76 1819.31 1528.76 Q1822.32 1528.76 1824.01 1527.25 Q1825.72 1525.75 1825.72 1523.06 Q1825.72 1520.38 1824.01 1518.87 Q1822.32 1517.37 1819.31 1517.37 Q1816.28 1517.37 1814.59 1518.87 Q1812.92 1520.38 1812.92 1523.06 Z\" fill=\"#000000\" fill-rule=\"evenodd\" fill-opacity=\"1\" /><path clip-path=\"url(#clip910)\" d=\"M2263.99 1544.91 L2271.63 1544.91 L2271.63 1518.55 L2263.32 1520.21 L2263.32 1515.95 L2271.59 1514.29 L2276.26 1514.29 L2276.26 1544.91 L2283.9 1544.91 L2283.9 1548.85 L2263.99 1548.85 L2263.99 1544.91 Z\" fill=\"#000000\" fill-rule=\"evenodd\" fill-opacity=\"1\" /><path clip-path=\"url(#clip910)\" d=\"M2303.35 1517.37 Q2299.73 1517.37 2297.91 1520.93 Q2296.1 1524.47 2296.1 1531.6 Q2296.1 1538.71 2297.91 1542.27 Q2299.73 1545.82 2303.35 1545.82 Q2306.98 1545.82 2308.79 1542.27 Q2310.61 1538.71 2310.61 1531.6 Q2310.61 1524.47 2308.79 1520.93 Q2306.98 1517.37 2303.35 1517.37 M2303.35 1513.66 Q2309.16 1513.66 2312.21 1518.27 Q2315.29 1522.85 2315.29 1531.6 Q2315.29 1540.33 2312.21 1544.94 Q2309.16 1549.52 2303.35 1549.52 Q2297.54 1549.52 2294.46 1544.94 Q2291.4 1540.33 2291.4 1531.6 Q2291.4 1522.85 2294.46 1518.27 Q2297.54 1513.66 2303.35 1513.66 Z\" fill=\"#000000\" fill-rule=\"evenodd\" fill-opacity=\"1\" /><polyline clip-path=\"url(#clip912)\" style=\"stroke:#000000; stroke-linecap:butt; stroke-linejoin:round; stroke-width:2; stroke-opacity:0.1; fill:none\" points=\"\n",
       "  110.881,1141.15 2352.76,1141.15 \n",
       "  \"/>\n",
       "<polyline clip-path=\"url(#clip912)\" style=\"stroke:#000000; stroke-linecap:butt; stroke-linejoin:round; stroke-width:2; stroke-opacity:0.1; fill:none\" points=\"\n",
       "  110.881,792.463 2352.76,792.463 \n",
       "  \"/>\n",
       "<polyline clip-path=\"url(#clip912)\" style=\"stroke:#000000; stroke-linecap:butt; stroke-linejoin:round; stroke-width:2; stroke-opacity:0.1; fill:none\" points=\"\n",
       "  110.881,443.775 2352.76,443.775 \n",
       "  \"/>\n",
       "<polyline clip-path=\"url(#clip912)\" style=\"stroke:#000000; stroke-linecap:butt; stroke-linejoin:round; stroke-width:2; stroke-opacity:0.1; fill:none\" points=\"\n",
       "  110.881,95.0875 2352.76,95.0875 \n",
       "  \"/>\n",
       "<polyline clip-path=\"url(#clip910)\" style=\"stroke:#000000; stroke-linecap:butt; stroke-linejoin:round; stroke-width:4; stroke-opacity:1; fill:none\" points=\"\n",
       "  110.881,1486.45 110.881,47.2441 \n",
       "  \"/>\n",
       "<polyline clip-path=\"url(#clip910)\" style=\"stroke:#000000; stroke-linecap:butt; stroke-linejoin:round; stroke-width:4; stroke-opacity:1; fill:none\" points=\"\n",
       "  110.881,1141.15 129.779,1141.15 \n",
       "  \"/>\n",
       "<polyline clip-path=\"url(#clip910)\" style=\"stroke:#000000; stroke-linecap:butt; stroke-linejoin:round; stroke-width:4; stroke-opacity:1; fill:none\" points=\"\n",
       "  110.881,792.463 129.779,792.463 \n",
       "  \"/>\n",
       "<polyline clip-path=\"url(#clip910)\" style=\"stroke:#000000; stroke-linecap:butt; stroke-linejoin:round; stroke-width:4; stroke-opacity:1; fill:none\" points=\"\n",
       "  110.881,443.775 129.779,443.775 \n",
       "  \"/>\n",
       "<polyline clip-path=\"url(#clip910)\" style=\"stroke:#000000; stroke-linecap:butt; stroke-linejoin:round; stroke-width:4; stroke-opacity:1; fill:none\" points=\"\n",
       "  110.881,95.0875 129.779,95.0875 \n",
       "  \"/>\n",
       "<path clip-path=\"url(#clip910)\" d=\"M62.9365 1126.95 Q59.3254 1126.95 57.4967 1130.51 Q55.6912 1134.06 55.6912 1141.19 Q55.6912 1148.29 57.4967 1151.86 Q59.3254 1155.4 62.9365 1155.4 Q66.5707 1155.4 68.3763 1151.86 Q70.205 1148.29 70.205 1141.19 Q70.205 1134.06 68.3763 1130.51 Q66.5707 1126.95 62.9365 1126.95 M62.9365 1123.25 Q68.7467 1123.25 71.8022 1127.85 Q74.8809 1132.44 74.8809 1141.19 Q74.8809 1149.91 71.8022 1154.52 Q68.7467 1159.1 62.9365 1159.1 Q57.1264 1159.1 54.0477 1154.52 Q50.9921 1149.91 50.9921 1141.19 Q50.9921 1132.44 54.0477 1127.85 Q57.1264 1123.25 62.9365 1123.25 Z\" fill=\"#000000\" fill-rule=\"evenodd\" fill-opacity=\"1\" /><path clip-path=\"url(#clip910)\" d=\"M54.9736 805.808 L62.6124 805.808 L62.6124 779.443 L54.3023 781.109 L54.3023 776.85 L62.5661 775.183 L67.242 775.183 L67.242 805.808 L74.8809 805.808 L74.8809 809.743 L54.9736 809.743 L54.9736 805.808 Z\" fill=\"#000000\" fill-rule=\"evenodd\" fill-opacity=\"1\" /><path clip-path=\"url(#clip910)\" d=\"M58.5615 457.12 L74.8809 457.12 L74.8809 461.055 L52.9366 461.055 L52.9366 457.12 Q55.5986 454.366 60.1819 449.736 Q64.7883 445.083 65.9689 443.741 Q68.2143 441.218 69.0939 439.482 Q69.9967 437.722 69.9967 436.032 Q69.9967 433.278 68.0522 431.542 Q66.1309 429.806 63.0291 429.806 Q60.83 429.806 58.3763 430.57 Q55.9458 431.333 53.168 432.884 L53.168 428.162 Q55.9921 427.028 58.4458 426.449 Q60.8995 425.87 62.9365 425.87 Q68.3068 425.87 71.5013 428.556 Q74.6957 431.241 74.6957 435.732 Q74.6957 437.861 73.8855 439.782 Q73.0985 441.681 70.992 444.273 Q70.4133 444.944 67.3115 448.162 Q64.2096 451.356 58.5615 457.12 Z\" fill=\"#000000\" fill-rule=\"evenodd\" fill-opacity=\"1\" /><path clip-path=\"url(#clip910)\" d=\"M67.7513 93.7334 Q71.1078 94.4509 72.9827 96.7195 Q74.8809 98.988 74.8809 102.321 Q74.8809 107.437 71.3624 110.238 Q67.8439 113.039 61.3624 113.039 Q59.1865 113.039 56.8717 112.599 Q54.5801 112.182 52.1264 111.326 L52.1264 106.812 Q54.0708 107.946 56.3856 108.525 Q58.7004 109.104 61.2236 109.104 Q65.6217 109.104 67.9133 107.368 Q70.2281 105.631 70.2281 102.321 Q70.2281 99.2657 68.0754 97.5528 Q65.9457 95.8167 62.1263 95.8167 L58.0986 95.8167 L58.0986 91.9741 L62.3115 91.9741 Q65.7606 91.9741 67.5893 90.6084 Q69.418 89.2195 69.418 86.6269 Q69.418 83.9649 67.5198 82.5529 Q65.6448 81.1177 62.1263 81.1177 Q60.205 81.1177 58.006 81.5344 Q55.8069 81.951 53.168 82.8306 L53.168 78.664 Q55.8301 77.9233 58.1449 77.5529 Q60.4828 77.1825 62.543 77.1825 Q67.867 77.1825 70.9689 79.6131 Q74.0707 82.0205 74.0707 86.1408 Q74.0707 89.0112 72.4272 91.0019 Q70.7837 92.9695 67.7513 93.7334 Z\" fill=\"#000000\" fill-rule=\"evenodd\" fill-opacity=\"1\" /><polyline clip-path=\"url(#clip912)\" style=\"stroke:#009af9; stroke-linecap:butt; stroke-linejoin:round; stroke-width:4; stroke-opacity:1; fill:none\" points=\"\n",
       "  174.33,704.869 409.328,1445.72 644.325,904.196 879.322,87.9763 1114.32,515.859 1349.32,1392.99 1584.31,1089.22 1819.31,169.111 2054.31,342.711 2289.31,1287.38 \n",
       "  \n",
       "  \"/>\n",
       "<path clip-path=\"url(#clip910)\" d=\"\n",
       "M1976.5 198.898 L2278.03 198.898 L2278.03 95.2176 L1976.5 95.2176  Z\n",
       "  \" fill=\"#ffffff\" fill-rule=\"evenodd\" fill-opacity=\"1\"/>\n",
       "<polyline clip-path=\"url(#clip910)\" style=\"stroke:#000000; stroke-linecap:butt; stroke-linejoin:round; stroke-width:4; stroke-opacity:1; fill:none\" points=\"\n",
       "  1976.5,198.898 2278.03,198.898 2278.03,95.2176 1976.5,95.2176 1976.5,198.898 \n",
       "  \"/>\n",
       "<polyline clip-path=\"url(#clip910)\" style=\"stroke:#009af9; stroke-linecap:butt; stroke-linejoin:round; stroke-width:4; stroke-opacity:1; fill:none\" points=\"\n",
       "  2001.41,147.058 2150.87,147.058 \n",
       "  \"/>\n",
       "<path clip-path=\"url(#clip910)\" d=\"M2189.62 166.745 Q2187.81 171.375 2186.1 172.787 Q2184.39 174.199 2181.52 174.199 L2178.11 174.199 L2178.11 170.634 L2180.61 170.634 Q2182.37 170.634 2183.35 169.8 Q2184.32 168.967 2185.5 165.865 L2186.26 163.921 L2175.78 138.412 L2180.29 138.412 L2188.39 158.689 L2196.49 138.412 L2201.01 138.412 L2189.62 166.745 Z\" fill=\"#000000\" fill-rule=\"evenodd\" fill-opacity=\"1\" /><path clip-path=\"url(#clip910)\" d=\"M2208.3 160.402 L2215.94 160.402 L2215.94 134.037 L2207.63 135.703 L2207.63 131.444 L2215.89 129.778 L2220.57 129.778 L2220.57 160.402 L2228.21 160.402 L2228.21 164.338 L2208.3 164.338 L2208.3 160.402 Z\" fill=\"#000000\" fill-rule=\"evenodd\" fill-opacity=\"1\" /></svg>\n"
      ]
     },
     "execution_count": 77,
     "metadata": {},
     "output_type": "execute_result"
    }
   ],
   "source": [
    "# 2.1 # data generation\n",
    "using Plots\n",
    "function data_maker(x) # x[i] are the parameters of the system\n",
    "\n",
    "    data_generator(t) = x[1] + x[2] * exp(-(x[3]-t)^2/x[4]) + x[5]*cos(x[6]*t)\n",
    "    # we want to min f = sum_i  r(i,x)^2\n",
    "    \n",
    "    return  data_generator\n",
    "end\n",
    "\n",
    "x = [1.1, 0.01, 1.2, 1.5, 2.0, 1.5]\n",
    "data_generator  = data_maker(x);\n",
    "t = 1:10;\n",
    "y_generated = data_generator.(t)\n",
    "plot(t,y_generated)\n"
   ]
  },
  {
   "cell_type": "code",
   "execution_count": 76,
   "id": "fa92dd05",
   "metadata": {},
   "outputs": [
    {
     "data": {
      "text/plain": [
       "0.00013873852657246715"
      ]
     },
     "execution_count": 76,
     "metadata": {},
     "output_type": "execute_result"
    }
   ],
   "source": [
    "# 2.1  Method 2: traing the cost funtion\n",
    "using Plots\n",
    "\n",
    "ϕ(t,x) = x[1] + x[2] * exp(-(x[3]-t)^2/x[4]) + x[5]*cos(x[6]*t)\n",
    "r(i,t,y,x) = y[i]-ϕ(t[i],x) \n",
    "\n",
    "\n",
    "function f(x,t,y)\n",
    "    results = 0 \n",
    "    for i in 1:length(y)\n",
    "        results += r(i,t,y,x)^2\n",
    "    end\n",
    "    \n",
    "    return results\n",
    "end\n",
    "\n",
    "\n",
    "\n",
    "\n",
    "x = [1.1, 0.01, 1.2, 1.5, 2.0, 1.5] #true\n",
    "f(x,t,y_generated)\n",
    "\n",
    "\n",
    "x = [1.1, 0.01, 0,0, 2.0, 1.5] # random guess\n",
    "f(x,t,y_generated)\n"
   ]
  },
  {
   "cell_type": "code",
   "execution_count": null,
   "id": "d2d71739",
   "metadata": {},
   "outputs": [],
   "source": []
  },
  {
   "cell_type": "code",
   "execution_count": 20,
   "id": "ebd65a10",
   "metadata": {},
   "outputs": [
    {
     "data": {
      "text/plain": [
       "1:100"
      ]
     },
     "execution_count": 20,
     "metadata": {},
     "output_type": "execute_result"
    }
   ],
   "source": []
  },
  {
   "cell_type": "code",
   "execution_count": null,
   "id": "04393253",
   "metadata": {},
   "outputs": [],
   "source": []
  }
 ],
 "metadata": {
  "kernelspec": {
   "display_name": "Julia 1.6.2",
   "language": "julia",
   "name": "julia-1.6"
  },
  "language_info": {
   "file_extension": ".jl",
   "mimetype": "application/julia",
   "name": "julia",
   "version": "1.6.2"
  },
  "latex_envs": {
   "LaTeX_envs_menu_present": true,
   "autoclose": false,
   "autocomplete": true,
   "bibliofile": "biblio.bib",
   "cite_by": "apalike",
   "current_citInitial": 1,
   "eqLabelWithNumbers": true,
   "eqNumInitial": 1,
   "hotkeys": {
    "equation": "Ctrl-E",
    "itemize": "Ctrl-I"
   },
   "labels_anchors": false,
   "latex_user_defs": false,
   "report_style_numbering": false,
   "user_envs_cfg": false
  },
  "toc": {
   "base_numbering": 1,
   "nav_menu": {},
   "number_sections": true,
   "sideBar": true,
   "skip_h1_title": false,
   "title_cell": "Table of Contents",
   "title_sidebar": "Contents",
   "toc_cell": false,
   "toc_position": {},
   "toc_section_display": true,
   "toc_window_display": false
  }
 },
 "nbformat": 4,
 "nbformat_minor": 5
}
